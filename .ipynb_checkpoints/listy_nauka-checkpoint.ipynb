{
 "cells": [
  {
   "cell_type": "code",
   "execution_count": 19,
   "id": "8135bcdf-2cca-44b2-8c97-07d042b56a87",
   "metadata": {},
   "outputs": [
    {
     "name": "stdout",
     "output_type": "stream",
     "text": [
      "banana split\n",
      "cheesecake\n",
      "apple\n",
      "3\n",
      "banana split\n",
      "cheesecake\n"
     ]
    }
   ],
   "source": [
    "my_list = [ 'apple' , 3 , 'banana split' ]\n",
    "print(my_list[2])\n",
    "my_list.append('cheesecake')\n",
    "print(my_list[3])\n",
    "for i in range(len(my_list)) :\n",
    "    print(my_list[i])"
   ]
  },
  {
   "cell_type": "code",
   "execution_count": null,
   "id": "fee2432f-9b44-43b0-8ce4-4806b54f4faf",
   "metadata": {},
   "outputs": [],
   "source": []
  }
 ],
 "metadata": {
  "kernelspec": {
   "display_name": "Python [conda env:base] *",
   "language": "python",
   "name": "conda-base-py"
  },
  "language_info": {
   "codemirror_mode": {
    "name": "ipython",
    "version": 3
   },
   "file_extension": ".py",
   "mimetype": "text/x-python",
   "name": "python",
   "nbconvert_exporter": "python",
   "pygments_lexer": "ipython3",
   "version": "3.12.7"
  }
 },
 "nbformat": 4,
 "nbformat_minor": 5
}
