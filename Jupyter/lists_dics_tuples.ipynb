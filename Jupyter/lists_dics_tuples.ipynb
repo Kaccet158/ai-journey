{
 "cells": [
  {
   "cell_type": "code",
   "execution_count": 3,
   "id": "8135bcdf-2cca-44b2-8c97-07d042b56a87",
   "metadata": {},
   "outputs": [
    {
     "name": "stdout",
     "output_type": "stream",
     "text": [
      "banana split\n",
      "cheesecake\n",
      "apple\n",
      "3\n",
      "banana split\n",
      "cheesecake\n"
     ]
    }
   ],
   "source": [
    "my_list = [ 'apple' , 3 , 'banana split' ]\n",
    "print(my_list[2])\n",
    "my_list.append('cheesecake')\n",
    "print(my_list[3])\n",
    "for i in range(len(my_list)) :\n",
    "    print(my_list[i])"
   ]
  },
  {
   "cell_type": "code",
   "execution_count": 5,
   "id": "fee2432f-9b44-43b0-8ce4-4806b54f4faf",
   "metadata": {},
   "outputs": [
    {
     "name": "stdout",
     "output_type": "stream",
     "text": [
      "Kacper\n",
      "name Kacper\n",
      "age 18\n",
      "city Szaflary\n",
      "is_student True\n"
     ]
    }
   ],
   "source": [
    "my_dict = { 'name' : 'Kacper' , 'age' : 18 , 'city' : 'Szaflary'}\n",
    "print(my_dict['name'])\n",
    "my_dict['is_student']=True #Shows that I'm student\n",
    "#Write all\n",
    "for key, value in my_dict.items():\n",
    "    print(key,value)"
   ]
  },
  {
   "cell_type": "code",
   "execution_count": null,
   "id": "c47af57e-abb0-446d-bc96-0f4e4bc49f66",
   "metadata": {},
   "outputs": [],
   "source": []
  }
 ],
 "metadata": {
  "kernelspec": {
   "display_name": "Python [conda env:base] *",
   "language": "python",
   "name": "conda-base-py"
  },
  "language_info": {
   "codemirror_mode": {
    "name": "ipython",
    "version": 3
   },
   "file_extension": ".py",
   "mimetype": "text/x-python",
   "name": "python",
   "nbconvert_exporter": "python",
   "pygments_lexer": "ipython3",
   "version": "3.12.7"
  }
 },
 "nbformat": 4,
 "nbformat_minor": 5
}
